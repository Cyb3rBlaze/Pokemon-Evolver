{
 "cells": [
  {
   "cell_type": "markdown",
   "metadata": {},
   "source": [
    "# Data Preparation Notebook"
   ]
  },
  {
   "cell_type": "code",
   "execution_count": 8,
   "metadata": {},
   "outputs": [],
   "source": [
    "import os\n",
    "\n",
    "\n",
    "# parent directory containing all pokemon images\n",
    "parent_dir = \"./raw_images/\"\n",
    "\n",
    "all_pokemon_names = os.listdir(parent_dir)\n",
    "\n",
    "# print(all_pokemon_names)"
   ]
  },
  {
   "cell_type": "code",
   "execution_count": 7,
   "metadata": {},
   "outputs": [],
   "source": [
    "import csv\n",
    "\n",
    "import numpy as np\n",
    "\n",
    "\n",
    "# csv file containing evolution pairs\n",
    "csv_file_path = \"evolution_pairs.csv\"\n",
    "\n",
    "evolution_pairs = []\n",
    "\n",
    "with open(csv_file_path, \"r\") as csv_file:\n",
    "    reader = csv.reader(csv_file)\n",
    "\n",
    "    # skip first column name row\n",
    "    next(reader)\n",
    "\n",
    "    for row in reader:\n",
    "        evolution_pairs += [row]\n",
    "    \n",
    "    # print(evolution_pairs)"
   ]
  },
  {
   "cell_type": "code",
   "execution_count": 28,
   "metadata": {},
   "outputs": [
    {
     "name": "stdout",
     "output_type": "stream",
     "text": [
      "Valid pairs: 430\n"
     ]
    }
   ],
   "source": [
    "from PIL import Image\n",
    "\n",
    "\n",
    "# 430 valid pairs\n",
    "valid_pairs = 0\n",
    "\n",
    "final_pairs = []\n",
    "\n",
    "for pair in evolution_pairs:\n",
    "    evolved, pre_evolution = pair\n",
    "\n",
    "    skip = False\n",
    "\n",
    "    # specific cases which require renaming or removal\n",
    "    if pre_evolution == \"Nidoran F\":\n",
    "        pre_evolution = \"Nidoran♀\"\n",
    "    elif pre_evolution == \"Nidoran M\":\n",
    "        pre_evolution = \"Nidoran♂\"\n",
    "    elif pre_evolution == \"Mime Jr.\":\n",
    "        pre_evolution = \"Mime Jr\"\n",
    "    elif evolved == \"Porygon Z\":\n",
    "        evolved = \"Porygon-Z\"\n",
    "    elif evolved == \"Aegislash Shield\":\n",
    "        evolved = \"Aegislash\"\n",
    "    elif evolved == \"Type: Null\":\n",
    "        evolved = \"Type Null\"\n",
    "    elif pre_evolution == \"Type: Null\":\n",
    "        pre_evolution = \"Type Null\"\n",
    "    elif evolved == \"Wyrdeer\":\n",
    "        skip = True\n",
    "    elif evolved == \"Kleavor\":\n",
    "        skip = True\n",
    "    elif evolved == \"Ursaluna\":\n",
    "        skip = True\n",
    "    elif evolved == \"Basculegion\":\n",
    "        skip = True\n",
    "    elif evolved == \"Sneasler\":\n",
    "        skip = True\n",
    "    elif evolved == \"Overqwil\":\n",
    "        skip = True\n",
    "\n",
    "\n",
    "    if pre_evolution != \"\" and skip == False:\n",
    "        evolved_images = [Image.open(parent_dir + evolved + \"/\" + image_path) for image_path in os.listdir(parent_dir + evolved + \"/\")]\n",
    "        pre_evolution_images = [Image.open(parent_dir + pre_evolution + \"/\" + image_path) for image_path in os.listdir(parent_dir + pre_evolution + \"/\")]\n",
    "\n",
    "        final_pairs += [{\"Evolved\": evolved_images, \"Pre-evolved\": pre_evolution_images}]\n",
    "\n",
    "        valid_pairs += 1\n",
    "\n",
    "print(\"Valid pairs: \" + str(valid_pairs))\n"
   ]
  },
  {
   "cell_type": "code",
   "execution_count": 38,
   "metadata": {},
   "outputs": [
    {
     "name": "stderr",
     "output_type": "stream",
     "text": [
      "430it [00:06, 64.57it/s]\n"
     ]
    }
   ],
   "source": [
    "from tqdm import tqdm\n",
    "\n",
    "\n",
    "# ex. structure: ./cleaned_data/pair0/evolved/0.jpg + ./cleaned_data/pair0/pre_evolution/0.jpg\n",
    "cleaned_dir = \"./cleaned_data/\"\n",
    "\n",
    "for i, pair in tqdm(enumerate(final_pairs)):\n",
    "    evolved_images = pair[\"Evolved\"]\n",
    "    pre_evolution_images = pair[\"Pre-evolved\"]\n",
    "\n",
    "    os.mkdir(cleaned_dir + \"pair\" + str(i))\n",
    "\n",
    "    os.mkdir(cleaned_dir + \"pair\" + str(i) + \"/evolved\")\n",
    "    os.mkdir(cleaned_dir + \"pair\" + str(i) + \"/pre_evolution\")\n",
    "\n",
    "    # creating cleaned up pair database\n",
    "    for j, evolved_image in enumerate(evolved_images):\n",
    "        evolved_image.save(cleaned_dir + \"pair\" + str(i) + \"/evolved/\" + str(j) + \".jpg\")\n",
    "\n",
    "    for j, pre_evolution_image in enumerate(pre_evolution_images):\n",
    "        pre_evolution_image.save(cleaned_dir + \"pair\" + str(i) + \"/pre_evolution/\" + str(j) + \".jpg\")\n"
   ]
  }
 ],
 "metadata": {
  "kernelspec": {
   "display_name": "Python 3.8.9 ('env': venv)",
   "language": "python",
   "name": "python3"
  },
  "language_info": {
   "codemirror_mode": {
    "name": "ipython",
    "version": 3
   },
   "file_extension": ".py",
   "mimetype": "text/x-python",
   "name": "python",
   "nbconvert_exporter": "python",
   "pygments_lexer": "ipython3",
   "version": "3.8.9"
  },
  "orig_nbformat": 4,
  "vscode": {
   "interpreter": {
    "hash": "6d7041ddfad214388dc405daafa85afecab556b65b7ebce9d3f59a6bf7694496"
   }
  }
 },
 "nbformat": 4,
 "nbformat_minor": 2
}
